{
 "cells": [
  {
   "cell_type": "markdown",
   "metadata": {},
   "source": [
    "## (체험) 제1유형 (풀이용)\n",
    "\n",
    "제공된 데이터(employee_performance.csv)는 회사의 직원 연봉과 근속 연수 등에 관한 자료이다. 아래 수행 순서에 따라 데이터를 처리한 후, 구한 값을 소문항별로 [제출 형식]에 맞춰 답안 제출 페이지에 답안을 입력하시오.\n",
    "\n",
    "📦 제공 데이터\n",
    "직원ID: 고유 식별자\n",
    "\n",
    "부서: 소속 부서\n",
    "\n",
    "연봉: 연간 급여\n",
    "\n",
    "근속연수: 총 근무기간\n",
    "\n",
    "성과등급: 성과 등급(A, B, C)\n",
    "\n",
    "교육참여횟수: 회사 교육에 참여한 횟수\n",
    "\n",
    "고객만족도: 담당 업무에 대한 고객의 만족도\n",
    "\n",
    "✅ 수행 순서\n",
    "고객만족도가 없는 직원의 경우, 평균 고객만족도로 결측치를 채운다.\n",
    "\n",
    "근속연수가 없는 직원의 경우, 해당 직원을 삭제한다.\n",
    "\n",
    "직원의 고객만족도의 4분위 중 3사분위수 값을 계산한다.\n",
    "\n",
    "부서별로 평균연봉을 구하고, 두 번째로 평균연봉이 높은 부서의 평균연봉을 계산한다.\n",
    "\n",
    "\n",
    "\n",
    "① 수행순서 3)에서 계산한 값을 입력하십시오.\n",
    "☞ [제출 형식] 버림하여 정수(integer)로 작성\n",
    "\n",
    "② 수행순서 4)에서 계산한 값을 입력하십시오.\n",
    "☞ [제출 형식] 버림하여 정수(integer)로 작성\n",
    "\n",
    "\n"
   ]
  },
  {
   "cell_type": "code",
   "execution_count": 1,
   "metadata": {},
   "outputs": [
    {
     "ename": "SyntaxError",
     "evalue": "invalid character '①' (U+2460) (3392864962.py, line 48)",
     "output_type": "error",
     "traceback": [
      "\u001b[0;36m  Cell \u001b[0;32mIn[2], line 48\u001b[0;36m\u001b[0m\n\u001b[0;31m    ① 수행순서 3)에서 계산한 값을 입력하십시오.\u001b[0m\n\u001b[0m    ^\u001b[0m\n\u001b[0;31mSyntaxError\u001b[0m\u001b[0;31m:\u001b[0m invalid character '①' (U+2460)\n"
     ]
    }
   ],
   "source": [
    "# 출력을 원할 경우 print() 함수 활용\n",
    "# 예시) print(df.head())\n",
    "\n",
    "# getcwd(), chdir() 등 작업 폴더 설정 불필요\n",
    "# 파일 경로 상 내부 드라이브 경로(C: 등) 접근 불가\n",
    "\n",
    "import pandas as pd\n",
    "\n",
    "df = pd.read_csv(\"data/employee_performance.csv\")\n",
    "\n",
    "# 사용자 코딩\n",
    "\n",
    "# 해당 화면에서는 제출하지 않으며, 문제 풀이 후 답안제출에서 결괏값 제출\n",
    "\n",
    "print(\"결측치 개수 보기\")\n",
    "print(df.isnull().sum())\n",
    "print(\"------------------\")\n",
    "print(\"------------------\")\n",
    "\n",
    "print(\"1) 결측치 채우기\")\n",
    "df[\"고객만족도\"] = df[\"고객만족도\"].fillna(df[\"고객만족도\"].mean())\n",
    "\n",
    "print(\"2) 근속연수 없는 직원삭제\")\n",
    "df = df.dropna(axis=0) # df에 바로 반영 안되고 새 데이터프레임 생성됨 \n",
    "print(df.isnull().sum())\n",
    "print(\"------------------\")\n",
    "print(\"------------------\")\n",
    "\n",
    "print(\"3) 3분위수 구하기\")\n",
    "print(df.describe())\n",
    "print(\"------------------\")\n",
    "print(\"------------------\")\n",
    "\n",
    "# 3분위수는 75% 8.0 => 8\n",
    "\n",
    "print(\"4) 부서별 평균 연봉 계산 후 두 번째로 높은 부서의 평균연봉 \")\n",
    "# 1. 부서별 평균 연봉 계산\n",
    "mean_salary_by_dept = df.groupby(\"부서\")[\"연봉\"].mean()\n",
    "\n",
    "# 2. 평균연봉 기준으로 내림차순 정렬 후 두 번째 값 선택\n",
    "second_highest_salary = mean_salary_by_dept.sort_values(ascending=False).iloc[1]\n",
    "\n",
    "# 결과 출력 (정수형으로 제출 형식 맞춤)\n",
    "print(\"두 번째로 높은 부서의 평균연봉:\", int(round(second_highest_salary)))\n",
    "print(\"------------------\")\n",
    "print(\"------------------\")\n",
    "\n",
    "# 정답은 74690"
   ]
  }
 ],
 "metadata": {
  "kernelspec": {
   "display_name": "Python 3",
   "language": "python",
   "name": "python3"
  },
  "language_info": {
   "codemirror_mode": {
    "name": "ipython",
    "version": 3
   },
   "file_extension": ".py",
   "mimetype": "text/x-python",
   "name": "python",
   "nbconvert_exporter": "python",
   "pygments_lexer": "ipython3",
   "version": "3.9.6"
  }
 },
 "nbformat": 4,
 "nbformat_minor": 2
}
